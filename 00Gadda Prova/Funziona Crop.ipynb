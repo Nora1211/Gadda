{
 "cells": [
  {
   "cell_type": "code",
   "execution_count": 5,
   "id": "2d4aca2c-4230-42af-8d80-fc5733c17418",
   "metadata": {},
   "outputs": [
    {
     "name": "stdout",
     "output_type": "stream",
     "text": [
      "VOLUMI («Cultura dell’anima»: 15).\n",
      "A BTB Segn. 1803\n",
      "Sottolineature. Ritaglio di giornale inse-\n",
      "rito.\n",
      "[1] Abba, Giuseppe Cesare\n",
      "Ricordi garibaldini. Torino, Sten, [8] Acton, Harold\n",
      "1913 («Pagine di storia»: 2).\n",
      "Gli ultimi Medici. Traduzione di\n",
      "BTB Segn. 1493 A. Castelnuovo Tedesco. Torino,\n",
      "[2] Abernethy, Silvia M. Einaudi, 1962 («Saggi»: 305).\n",
      "Something to read. Qualcosa da BTB Segn. 1494\n",
      "leggere in inglese. Letture per gli\n",
      "studenti di inglese. Firenze, La [9] Adam, Antoine\n",
      "Nuova Italia, 1946. Proust. Paris, Hachette, 1965.\n",
      "BTB Segn. 2404 BAL\n",
      "[3] Abetti, Giorgio [10] Addestramento della fante-\n",
      "Amici e nemici di Galileo. Mila- ria. Roma, Regio esercito italia-\n",
      "no, Bompiani, 1945 («Avventure no, 1916.\n",
      "del pensiero»: 50). BAL\n",
      "BTB Segn. 743 Nota di possesso di Enrico Gadda,\n",
      "Valpini B. Valchiese 25 campo.\n",
      "[4] Abraham, Pierre\n",
      "[11] Addison, Joseph\n",
      "Créatures chez Balzac. Re-\n",
      "cherches sur la réalisation intel- Il tappezziere politico. A cura di\n",
      "lectuelle. Avec un texte inédit de A. Valori. Roma, Colombo, 1945\n",
      "Balzac. Paris, NRF- Gallimard, («Classici dell’umorismo»: 14).\n",
      "1931 («Essais, critique, littéra- BTB Segn. 1235\n",
      "ture»).\n",
      "[12] The Advanced Learner’s Dic-\n",
      "Il testo inedito è Un Avertissement à\n",
      "Le Gars, prima versione de Le dernier tionary of Current English.\n",
      "Chouan. London, Oxford University\n",
      "BTB Segn. 1116. Press, 1955.\n",
      "Nota di possesso autografa in data BTB Segn. 2482\n",
      "10.1931. Pieghe, sottolineature, po-\n",
      "stille. [13] Aegerter, Emmanuel\n",
      "Le grandi religioni. Traduzione\n",
      "[5] Accademia Nazionale dei di O. Pollidori Castellani. Milano,\n",
      "Lincei Garzanti, 1960 («Saper tutto»).\n",
      "Adunanza straordinaria pubblica BTB Segn. 1775\n",
      "Roma 14 novembre 1967. Roma,\n",
      "Accademia Nazionale dei Lincei, [14] Afanas’ev, Aleksandr Nikolaevič\n",
      "1967. Antiche fiabe russe. Torino, Ei-\n",
      "BTB Segn. Op.22 naudi, 1953.\n",
      "BAL\n",
      "[6] L’acquedotto del Flora in Ma-\n",
      "remma. Una grande opera vo- [15] Agenti segreti veneziani nel\n",
      "luta dal Duce. Grosseto, Bollet- ’700. A cura di G. Comisso. Mi-\n"
     ]
    }
   ],
   "source": [
    "import pdfplumber\n",
    "\n",
    "# Open the PDF file\n",
    "with pdfplumber.open('CatalogoCutProva1.pdf') as pdf:\n",
    "    # Get the first page\n",
    "    page = pdf.pages[0]\n",
    "\n",
    "    # Get the page dimensions\n",
    "    page_width = page.width\n",
    "    page_height = page.height\n",
    "\n",
    "    # Define the rectangle to crop (adjust these values to fit your PDF)\n",
    "    crop_x = 0\n",
    "    crop_y = 72  # Crop 1 inch from the top of the page\n",
    "    crop_width = page_width\n",
    "    crop_height = page_height - 144  # Crop 1 inch from the bottom of the page\n",
    "\n",
    "    # Crop the page\n",
    "    cropped_page = page.crop((crop_x, crop_y, crop_width, crop_height))\n",
    "\n",
    "    # Extract text from the cropped page\n",
    "    text = cropped_page.extract_text()\n",
    "    print(text)"
   ]
  },
  {
   "cell_type": "code",
   "execution_count": null,
   "id": "be0a315d-4df0-44d5-b006-cb9646acc30c",
   "metadata": {},
   "outputs": [],
   "source": []
  }
 ],
 "metadata": {
  "kernelspec": {
   "display_name": "Python 3 (ipykernel)",
   "language": "python",
   "name": "python3"
  },
  "language_info": {
   "codemirror_mode": {
    "name": "ipython",
    "version": 3
   },
   "file_extension": ".py",
   "mimetype": "text/x-python",
   "name": "python",
   "nbconvert_exporter": "python",
   "pygments_lexer": "ipython3",
   "version": "3.10.0"
  }
 },
 "nbformat": 4,
 "nbformat_minor": 5
}
