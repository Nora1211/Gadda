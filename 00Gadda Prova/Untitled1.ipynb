{
 "cells": [
  {
   "cell_type": "code",
   "execution_count": 27,
   "id": "47991ebb-e3ec-46d2-bdd8-9c69a8cc3264",
   "metadata": {},
   "outputs": [
    {
     "ename": "NameError",
     "evalue": "name 'instanceof' is not defined",
     "output_type": "error",
     "traceback": [
      "\u001b[1;31m---------------------------------------------------------------------------\u001b[0m",
      "\u001b[1;31mNameError\u001b[0m                                 Traceback (most recent call last)",
      "Input \u001b[1;32mIn [27]\u001b[0m, in \u001b[0;36m<module>\u001b[1;34m\u001b[0m\n\u001b[0;32m     16\u001b[0m layout \u001b[38;5;241m=\u001b[39m device\u001b[38;5;241m.\u001b[39mget_result()\n\u001b[0;32m     17\u001b[0m \u001b[38;5;28;01mfor\u001b[39;00m element \u001b[38;5;129;01min\u001b[39;00m layout:\n\u001b[1;32m---> 18\u001b[0m     \u001b[38;5;28;01mif\u001b[39;00m \u001b[43minstanceof\u001b[49m(element, LTTextBoxHorizontal):\n\u001b[0;32m     19\u001b[0m          \u001b[38;5;28mprint\u001b[39m(element\u001b[38;5;241m.\u001b[39mget_text())\n",
      "\u001b[1;31mNameError\u001b[0m: name 'instanceof' is not defined"
     ]
    }
   ],
   "source": [
    "from pdfminer.layout import LAParams\n",
    "from pdfminer.converter import PDFResourceManager, PDFPageAggregator\n",
    "from pdfminer.pdfpage import PDFPage\n",
    "from pdfminer.layout import LTTextBoxHorizontal\n",
    "document = open('CatalogoCutProva1NoHeader.pdf', 'rb')\n",
    "#Create resource manager\n",
    "rsrcmgr = PDFResourceManager()\n",
    "# Set parameters for analysis.\n",
    "laparams = LAParams()\n",
    "# Create a PDF page aggregator object.\n",
    "device = PDFPageAggregator(rsrcmgr, laparams=laparams)\n",
    "interpreter = PDFPageInterpreter(rsrcmgr, device)\n",
    "for page in PDFPage.get_pages(document):\n",
    "    interpreter.process_page(page)\n",
    "# receive the LTPage object for the page.\n",
    "layout = device.get_result()\n",
    "for element in layout:\n",
    "    if instanceof(element, LTTextBoxHorizontal):\n",
    "         print(element.get_text())\n"
   ]
  },
  {
   "cell_type": "code",
   "execution_count": null,
   "id": "ecc28430-f830-47fb-93b3-0b317acc1535",
   "metadata": {},
   "outputs": [],
   "source": []
  }
 ],
 "metadata": {
  "kernelspec": {
   "display_name": "Python 3 (ipykernel)",
   "language": "python",
   "name": "python3"
  },
  "language_info": {
   "codemirror_mode": {
    "name": "ipython",
    "version": 3
   },
   "file_extension": ".py",
   "mimetype": "text/x-python",
   "name": "python",
   "nbconvert_exporter": "python",
   "pygments_lexer": "ipython3",
   "version": "3.10.0"
  }
 },
 "nbformat": 4,
 "nbformat_minor": 5
}
