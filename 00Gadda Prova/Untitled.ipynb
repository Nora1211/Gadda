{
 "cells": [
  {
   "cell_type": "code",
   "execution_count": 1,
   "id": "dd7553fd-6497-4bdc-a0dd-1d34b41709d7",
   "metadata": {},
   "outputs": [],
   "source": [
    "import re\n",
    "\n",
    "# legge il txt come string\n",
    "with open(\"output.txt\", encoding=\"UTF-8\") as f:\n",
    "    corpora = f.read()\n",
    "\n",
    "\n",
    "# toglie spazi, tabs e newline\n",
    "re.sub('\\s{2,}', ' ', corpora)\n",
    "re.sub('\\t+', ' ', corpora)\n",
    "re.sub('\\n+', '', corpora)\n",
    "\n",
    "\n",
    "# toglie i numeri tra []\n",
    "txt = re.split(r'\\[\\d*\\s*\\w*\\s*[^\\]]*\\]', corpora)\n",
    "#print(txt)\n",
    "\n",
    "\n",
    "#splitta la stringa in due prima dell'informazione sul fondo di conservazione\n",
    "result = []\n",
    "for book in txt:\n",
    "    BibInfo = re.split(r'\\n(?=BTB)|\\n(?=BAC)|\\n(?=BAL)|\\n(?=BTM)', book)\n",
    "    \n",
    "    #print(BibInfo)\n",
    "    \n",
    "    #BibInfo = [i for i in BibInfo if i] # remove empty strings\n",
    "    #print(BibInfo)\n",
    "    result.append(BibInfo)\n",
    "#print(result)\n",
    "\n",
    "#toglie la prima list dove c'era VOLUMI ecc\n",
    "del result[0]\n",
    "#print(result)\n",
    "\n",
    "\n",
    "# Extract the first sublists of each list using a list comprehension\n",
    "#It contains info about the book: author, title, city, publisher and year\n",
    "BookInfo = [lst[0] for lst in result]\n",
    "#print(BookInfo)\n",
    "\n",
    "# Extract the second sublists of each list using a list comprehension\n",
    "#It contains info about the conservation fund\n",
    "FundInfo = [sublist[1] for sublist in result if len(sublist) >= 2]\n",
    "#print(FundInfo)"
   ]
  },
  {
   "cell_type": "code",
   "execution_count": 2,
   "id": "d820faa6-ff14-482a-8796-58577dba88de",
   "metadata": {},
   "outputs": [],
   "source": [
    "#toglie \\n prima del nome se c'e\n",
    "BookInfo = [s.strip() for s in BookInfo]\n",
    "\n",
    "#print(BookInfo)"
   ]
  },
  {
   "cell_type": "code",
   "execution_count": 3,
   "id": "eefe0d1b-1ae8-4e7b-9bf0-ab5c85c4f1cd",
   "metadata": {},
   "outputs": [],
   "source": [
    "import re\n",
    "\n",
    "\n",
    "# Remove the sentences containing \"A cura di\" and the following sentences for each string\n",
    "pattern = r'[^.]*[Aa]\\s*cura\\s*di[^.]*\\.[^.]*\\.'\n",
    "\n",
    "result = []\n",
    "for string in BookInfo:\n",
    "    new_string = re.sub(pattern, '', string)\n",
    "    result.append(new_string)\n",
    "\n",
    "#print(result)\n",
    "\n",
    "BookInfo = result\n",
    "#print(BookInfo)"
   ]
  },
  {
   "cell_type": "code",
   "execution_count": 4,
   "id": "e22493fa-d1c7-4a8e-898d-f6743b98a225",
   "metadata": {},
   "outputs": [],
   "source": [
    "#TOGLIE LE FRASI CONTENTENTI TRADUZIONE DI E ANCHE LA FRASE DOPO PERCHE SPESSO E TIPO A. AMBROSINI.\n",
    "\n",
    "import re\n",
    "\n",
    "\n",
    "# Remove the sentences containing \"A cura di\" and the following sentences for each string\n",
    "pattern = r'[^.]*[Tt]raduzion[^.]*\\.[^.]*\\.'\n",
    "\n",
    "result = []\n",
    "for string in BookInfo:\n",
    "    new_string = re.sub(pattern, '', string)\n",
    "    result.append(new_string)\n",
    "\n",
    "#print(result)\n",
    "\n",
    "BookInfo = result\n",
    "#print(BookInfo)"
   ]
  },
  {
   "cell_type": "code",
   "execution_count": 5,
   "id": "4436531d-148f-4eef-88e9-b840072d3683",
   "metadata": {},
   "outputs": [],
   "source": [
    "#funziona per prendere autori,sec'è un - lo mette nei titoli\n",
    "\n",
    "authors = []\n",
    "titles =[]\n",
    "for item in BookInfo:\n",
    "    author = item.split('\\n')[0]\n",
    "    if '-' in author:\n",
    "        titles.append(author)\n",
    "    else:\n",
    "        authors.append(author)\n",
    "\n",
    "#print(authors)\n",
    "\n",
    "#<-----cosi  se c'è - scrive not found\n",
    "#authors = []\n",
    "\n",
    "#for item in BookInfo:\n",
    "   # author = item.split('\\n')[0]\n",
    "    #if '-' in author:\n",
    "       # authors.append('Not found')\n",
    "    #else:\n",
    "       # authors.append(author)\n",
    "\n",
    "#print(authors)------>\n",
    "\n",
    "\n",
    "#cosi invece crea dueliste, una titoli e una autori\n",
    "authors = []\n",
    "\n",
    "authors = []\n",
    "titles =[]\n",
    "for item in BookInfo:\n",
    "    author = item.split('\\n')[0]\n",
    "    if '-' in author:\n",
    "        titles.append(author)\n",
    "    else:\n",
    "        authors.append(author)\n",
    "#print(authors)\n",
    "\n",
    "    "
   ]
  },
  {
   "cell_type": "code",
   "execution_count": 6,
   "id": "527eb10e-5b2b-469c-8caa-85165203e08e",
   "metadata": {},
   "outputs": [],
   "source": [
    "#TOGLIE GLI ASTERISCHI PERCHE ERANO IN MEZZO AI COGLIONI\n",
    "authors = [x.replace('*', '') for x in authors]\n",
    "\n",
    "#print(authors)\n"
   ]
  },
  {
   "cell_type": "code",
   "execution_count": 17,
   "id": "3869dfce-ee3a-42e6-a4dc-4e4497021f36",
   "metadata": {},
   "outputs": [
    {
     "name": "stdout",
     "output_type": "stream",
     "text": [
      "['Abba, Giuseppe Cesare ', 'Abernethy, Silvia M. ', 'Abetti, Giorgio ', 'Abraham, Pierre ', 'Accademia ', 'Acri, Francesco ', 'Acton, Harold ', 'Adam, Antoine ', 'Addison, Joseph ', 'Aegerter, Emmanuel ', 'Afanas’ev, Aleksandr Nikolaevič  ', 'Agenti segreti veneziani nel ', 'Agnetti, Vincenzo ', 'Agostino, Aurelio', 'Id.', 'Id.', 'Ai vittoriosi di Castelfidardo', 'Albert Paris Gütersloh zum', 'Gli albori della vita italiana. ', '.', 'Aleardi, Aleardo', 'Alemán, Mateo', 'Alessandrini, Garibaldo', 'Alfano, Giovanni Battista', 'Alfassio Grimaldi, Ugoberto ', 'Alfero, Giovanni Angelo –', 'Alfieri, Vittorio', 'Id.', 'Id.', 'Alfieri, Vittorio Enzo', 'Algarotti, Francesco', 'Alighieri, Dante', 'Id.', 'Id.', 'Id.', 'Id.', 'Id.', 'Id.', 'Id.', 'Id.', 'Id.', 'Id.', 'Id.', 'Id.', 'Id.', 'Id.', 'Id.', 'Id.', 'Id.', 'Id.', 'Alla santa memoria del Cav.', ' Allem, Maurice', ' Alvisi, Giacomo Giuseppe', 'Amari, Michele', 'Amati, Amato', 'Ambrosini, Igino', 'Amedeo, Giovanni', 'America d’altri tempi. Mostra', '.', 'Amicucci, Ermanno', 'Anceschi, Luciano', 'Andolfi, Otello', 'André, Albert', 'André, Louis', 'Andreini Galli, Nori', 'Anelli, Angelo', 'Angeli, Diego', 'Angeli, Siro', ' Poesia»: 5).', 'Angelini, Arnaldo Maria', 'Angelini, Cesare', 'Id.', 'Id.', 'Id.', 'Id.', 'Id.', 'Id.', 'Id.', 'Id.', ' Angrisani, Gaetano', 'Anno bisestile 1932. Prefazione', 'Annuario del teatro italiano', 'Annuario del teatro italiano ', 'Annuario del teatro italiano ', 'Anonimo (ma C.E. Gadda) ', 'Anonimo romano', 'Anselmo d’Aosta', 'Anti, Carlo', 'Antiche rime italiane tratte', 'Antongini, Tom', 'Antologia della prosa italiana', '.', 'Antologia di scrittori lombardi', 'Apollinaire, Guillaume', 'Id.', 'Approbation du livre de pietè', 'Arbasino, Alberto', 'Id.', 'Id.', 'Id.', 'Id.', 'Aretino, Pietro', 'Id.', 'Id.', 'Id.', 'Argan, Giulio Carlo', 'Ariosto, Ludovico', 'Id.', 'Id.', 'Id.', 'Id.', 'Id.', 'Aristotele', 'Id.', 'Id.', 'Id.', 'Id.', 'Id.', 'Id. ', 'Id.', 'Arland, Marcel', ' Leipzig, Reclam, 1938', '.', 'Id.', 'Arpesani, Camillo', 'L’arte in Italia dai secoli più', 'Artini, Ettore', 'Asciamprener, Spartaco', 'Ascoli, Graziadio Isaia', 'Ascoli, Guido', 'L’assassinio di Winckelmann.', 'Astolfi, Giovanni', 'Atlante geografico metodico.', 'Attività geografica del TCI', 'L’attività svolta dalla Terni', 'Aubry, Octave', 'Id.', 'Auerbach, Erich', 'Id.', '.', 'Augustinus, Aurelius (santo)', 'Aymé, Marcel', 'Babinger, Franz', 'Bacchelli, Riccardo', 'Id.', 'Id.', 'Id.', 'Id.', 'Id.', 'Id.', 'Id.', 'Id.', 'Id.', 'Id.', 'Id.', 'Id.', 'Id.', 'Id.', 'Id.', 'Id.', 'Id.', 'Id.', 'Id.', 'Bachofen, Jakob', 'Bacon, Francis', 'Id.', 'Badoaro, Giacomo', 'Badoni, Piera', 'Bædeker, Karl', 'Id.', 'Id.', 'Bagni, Tullio', 'Bailly, Auguste', 'Bainville, Jacques', 'Id. ', 'Balbo, Cesare ', 'Id. ', 'Baldini, Antonio ', 'Id. ', 'Id. ', 'Id. ', 'Id. ', 'Baldini, Gabriele ', 'Id. ', 'Bailly, Auguste ', 'Bally, Charles ', 'Balzac, Honoré de ', 'Id. ', 'Id. ', 'Id. ', 'Id. ', 'Id. ', 'Id. ', 'Balzaretti, Liliana ', 'Bandello, Matteo ', 'Id. ', 'Bandini, Franco ', 'Banti, Anna ', 'Ead. ', 'Ead. ', 'Barbagallo, Corrado ', 'Id. ', 'Id. ', 'Barbarani, Tiberio Umberto ', 'Bàrberi Squarotti, Giorgio ', 'Barbet, Pierre ', 'Barbiera, Raffaello ', 'Id. ', 'Id. ']\n"
     ]
    }
   ],
   "source": [
    "#REPLACE ID CON IL NOME CHE LO PRECEDE\n",
    "\n",
    "for i in range(len(authors)):\n",
    "    if authors[i] == ' Id.':\n",
    "        authors[i] = authors[i-1]\n",
    "\n",
    "print(authors)\n"
   ]
  },
  {
   "cell_type": "code",
   "execution_count": 8,
   "id": "b195b965-3776-4dda-9e46-26cc97db7b94",
   "metadata": {},
   "outputs": [],
   "source": [
    "#toglie i punti dalla lista di autori perchè quando togliebo authors da\n",
    "#BookInfo toglieva tutti i punti\n",
    "authorsNoDot = []  # Initialize an empty list to store the modified strings\n",
    "\n",
    "# Iterate over each string in the 'authors' list\n",
    "for string in authors:\n",
    "    updated_string = string.replace(\".\", \"\")  # Remove periods from the current string\n",
    "    authorsNoDot.append(updated_string)  # Append the modified string to the 'updated_strings' list\n",
    "#print(authorsNoDot)\n",
    "    \n",
    "    \n",
    "    \n",
    "#toglie gli autori dalla vecchia lista\n",
    "#toglie da BookInfo gli elementi della lista author \n",
    "#e crea una nuova lista TitleInfo con le informazioni rimaste\n",
    "for i in range(len(BookInfo)):\n",
    "    for substring in authorsNoDot:\n",
    "        BookInfo[i] = BookInfo[i].replace(substring, \"\")\n",
    "#print(BookInfo)\n",
    "\n",
    "#TITLEINFO HA TITOLO, CITTA, CE, ANNO, ECC\n",
    "TitleInfo = BookInfo\n",
    "#print(TitleInfo)\n"
   ]
  },
  {
   "cell_type": "code",
   "execution_count": 9,
   "id": "6bdc3181-4b89-46a3-af44-014facbdd0f1",
   "metadata": {},
   "outputs": [],
   "source": [
    "#STAMPA LA LISTA DEGLI ANNI\n",
    "#TOGLIE L'ANNO E IL RESTO DOPO L'ANNO\n",
    "\n",
    "import re\n",
    "\n",
    "def remove_after_year(list):\n",
    "    pattern = r'\\b(\\d{4})\\b'  # Regex pattern to match a 4-digit year surrounded by word boundaries\n",
    "    years = []  # List to store the extracted years\n",
    "    \n",
    "    # Iterate over each string in the list\n",
    "    for i in range(len(list)):\n",
    "        match = re.search(pattern, list[i])  # Find the year match\n",
    "        if match:\n",
    "            year = match.group(1)  # Extract the year from the match\n",
    "            years.append(year)  # Append the year to the years list\n",
    "            \n",
    "            year_index = match.start()  # Get the starting index of the year match\n",
    "            list[i] = list[i][:year_index]  # Keep only the text before the year\n",
    "    \n",
    "    return list, years\n",
    "\n",
    "# Example usage\n",
    "result, years = remove_after_year(TitleInfo)\n",
    "#print(result)\n",
    "#print(years)\n",
    "result = TitleInfo\n",
    "#print(TitleInfo)\n"
   ]
  },
  {
   "cell_type": "code",
   "execution_count": 10,
   "id": "da14950f-8df2-4307-9cc9-8171bb0d852d",
   "metadata": {},
   "outputs": [],
   "source": [
    "#TOGLIE LE \\N VUOTE\n",
    "def remove_newline_followed_by_comma(lst):\n",
    "    pattern = r'\\n,(?=\\s*\\S)'\n",
    "    replacement = ','\n",
    "    modified_lst = []\n",
    "    for text in lst:\n",
    "        modified_text = re.sub(pattern, replacement, text)\n",
    "        modified_lst.append(modified_text.strip())\n",
    "    return modified_lst\n",
    "\n",
    "# Example usage\n",
    "TitleInfo = remove_newline_followed_by_comma(TitleInfo)\n",
    "\n",
    "#print(TitleInfo)\n"
   ]
  },
  {
   "cell_type": "code",
   "execution_count": 11,
   "id": "3a8cc3e2-89a9-4baf-82f8-879870d2f499",
   "metadata": {},
   "outputs": [],
   "source": [
    "# Remove the trailing comma from each string\n",
    "TitleInfo = [s.rstrip(',') for s in TitleInfo]\n",
    "\n",
    "\n",
    "#PUBLISHER STANPA LA LISTA DI CASE EDITRICI\n",
    "publisher = []\n",
    "\n",
    "\n",
    "#TOGLIE LA CE DALLA STRING DI TITLEINFO\n",
    "for item in TitleInfo:\n",
    "    last_part = item.split(\",\")[-1].strip()  # Extract the last part and remove leading/trailing whitespace\n",
    "    publisher.append(last_part)\n",
    "\n",
    "TitleInfo = [item.replace(f\", {last_part}\", \"\") for item, last_part in zip(TitleInfo, publisher)]\n",
    "\n",
    "#print(publisher)\n",
    "#print(TitleInfo)\n"
   ]
  },
  {
   "cell_type": "code",
   "execution_count": 16,
   "id": "6d7955a2-663b-4f1a-8387-eb7ab61524d3",
   "metadata": {},
   "outputs": [
    {
     "name": "stdout",
     "output_type": "stream",
     "text": [
      "Extracted parts: ['noi', 'se']\n",
      "Modified original list: ['io tu', 'io', 'io tu. anche']\n"
     ]
    }
   ],
   "source": [
    "original_list = ['io tu. noi', 'io', 'io tu. anche. se']\n",
    "extracted_parts = []\n",
    "\n",
    "for i in range(len(original_list)):\n",
    "    last_period_index = original_list[i].rfind('.')\n",
    "    if last_period_index != -1:\n",
    "        extracted_part = original_list[i][last_period_index + 1:].strip()\n",
    "        extracted_parts.append(extracted_part)\n",
    "        original_list[i] = original_list[i][:last_period_index].strip()\n",
    "\n",
    "print(\"Extracted parts:\", extracted_parts)\n",
    "print(\"Modified original list:\", original_list)\n"
   ]
  },
  {
   "cell_type": "code",
   "execution_count": 13,
   "id": "495a73c9-f1a2-4268-83f8-4022b06e450e",
   "metadata": {},
   "outputs": [
    {
     "name": "stdout",
     "output_type": "stream",
     "text": [
      "['Torino', 'Firenze']\n"
     ]
    }
   ],
   "source": [
    "#ESTRAE LE CITTA ITALIANE FUNZIONA\n",
    "import re\n",
    "\n",
    "def extract_city_names_from_list(text_list):\n",
    "    # List of known city names\n",
    "\n",
    "\n",
    "    city_list = ['Agrigento','Alessandria','Ancona','Aosta','Arezzo','Ascoli Piceno','Asti','Avellino','Bari','Barletta-Andria-Trani','Belluno','Benevento','Bergamo','Biella','Bologna','Bolzano','Brescia','Brindisi','Cagliari','Caltanissetta','Campobasso','Carbonia-Iglesias','Caserta','Catania','Catanzaro','Chieti','Como','Cosenza','Cremona','Crotone','Cuneo','Enna','Fermo','Ferrara','Firenze','Foggia','Forlì-Cesena','Frosinone','Genova','Gorizia','Grosseto','Imperia','Isernia','La Spezia','L\\'Aquila','Latina','Lecce','Lecco','Livorno','Lodi','Lucca','Macerata','Mantova','Massa-Carrara','Matera','Messina','Milano','Modena','Monza e della Brianza','Napoli','Novara','Nuoro','Ogliastra','Olbia-Tempio','Oristano','Padova','Palermo','Parma','Pavia','Perugia','Pesaro e Urbino','Pescara','Piacenza','Pisa','Pistoia','Pordenone','Potenza','Prato','Ragusa','Ravenna','Reggio Calabria','Reggio Emilia','Rieti','Rimini','Roma','Rovigo','Salerno','Medio Campidano','Sassari','Savona','Siena','Siracusa','Sondrio','Taranto','Teramo','Terni','Torino','Ogliastra','Trapani','Trento','Treviso','Trieste','Udine','Varese','Venezia','Verbano-Cusio-Ossola','Vercelli','Verona','Vibo Valentia','Vicenza','Viterbo']\n",
    "\n",
    "    # Regular expression pattern to match city names\n",
    "    pattern = r'\\b(?:{})\\b'.format('|'.join(city_list))\n",
    "    extracted_cities = []\n",
    "    \n",
    "    for text in text_list:\n",
    "        # Find all matches of city names in the text\n",
    "        matches = re.findall(pattern, text, flags=re.IGNORECASE)\n",
    "        \n",
    "        # Append the unique city names to the extracted_cities list\n",
    "        extracted_cities.extend(list(set(matches)))\n",
    "    \n",
    "    return extracted_cities\n",
    "\n",
    "# Example usage\n",
    "text_list = ['\\nRicordi garibaldini. Torino, Sten, \\n1913 («Pagine di storia»: 2).', 'Abernethy, Silvia M. \\nSomething to read. Qualcosa da \\nleggere in inglese. Letture per gli \\nstudenti di inglese. Firenze, La \\nNuova Italia, 1946.', '\\nAmici e nemici di Galileo. Mila-\\nno, Bompiani, 1945 («Avventure \\ndel pensiero»: 50).', '\\nCréatures \\nchez \\nBalzac. \\nRe-\\ncherches sur la réalisation intel-\\nlectuelle. Avec un texte inédit de \\nBalzac. Paris, NRF- Gallimard, \\n1931 («Essais, critique, littéra-\\nture»).  \\nIl testo inedito è Un Avertissement à \\nLe Gars, prima versione de Le dernier \\nChouan.']\n",
    "cities = extract_city_names_from_list(text_list)\n",
    "print(cities)\n"
   ]
  },
  {
   "cell_type": "code",
   "execution_count": 14,
   "id": "267ee89d-b44a-4963-b1bf-1da3c927bba8",
   "metadata": {},
   "outputs": [
    {
     "name": "stdout",
     "output_type": "stream",
     "text": [
      "['Paris', 'Nazionale', 'del Flora', 'Paris', 'Addestramento', 'London', 'russe', 'IX-\\nXIII', 'Roma', 'Russia', 'Mursia', 'Albrighi', 'Convivio', 'La', 'Empire', 'Paris', 'orientali.', 'Napoli', 'Sicilia', 'Alpinia', 'America', 'Nizza e l’Italia', 'Roma', 'Paris', 'Braun', 's.d.', 'Paris', 'Algeri', 'Giovanni', 'Inchiesta', 'Inchiesta', 'Annuario', 'Roma', 'Intonso', 'Antologia', 'Paris', 'Sanctis', 'Orlando', 'Orlando', 'Orlando', 'Orlando', 'Orlando', 'Leipzig', 'Kategorien', 'Leipzig', 'Metaphysik', 'Topik', 'Leipzig', 'Paris', 'Giappichelli', 'Novara', 'Paris', 'Novara', 'Paris', 'Novelle', 'Pontelungo', 'Ceschina', 'La', 'Rizzoli', 'Ceschina', 'la virilità olimpica', 'Paris', 'Ulisse', 'Berlin', 'Rome', 'Leipzig', 'Unteritalien', 'Sizilien', 'Sardinien', 'Malta', 'Korfu', 'Leipzig', 'Paris', 'Paris', 'Paris', 'Diagonale', 'Lucia', 's.d.', 'Nota', 'San Pietro', 'Les', 'Paris', 'Paris', 'Paris', 'Novelle', 'Artemisia', 'Verona', 'la sua Milano']\n"
     ]
    }
   ],
   "source": [
    "#FUNZIONA DI MERDA\n",
    "import spacy\n",
    "\n",
    "def extract_cities(TitleInfo):\n",
    "    nlp = spacy.load('en_core_web_sm')\n",
    "    extracted_cities = []\n",
    "\n",
    "    for text in TitleInfo:\n",
    "        doc = nlp(text)\n",
    "        for ent in doc.ents:\n",
    "            if ent.label_ == 'GPE':  # GPE represents geopolitical entities (including cities)\n",
    "                extracted_cities.append(ent.text)\n",
    "\n",
    "    return extracted_cities\n",
    "\n",
    "texts = [\"I traveled to London and Paris last summer.\", \"New York is a vibrant city.\"]\n",
    "\n",
    "extracted_cities = extract_cities(TitleInfo)\n",
    "print(extracted_cities)\n"
   ]
  },
  {
   "cell_type": "code",
   "execution_count": null,
   "id": "83b09b56-c718-487b-a7d6-641dff9f232b",
   "metadata": {},
   "outputs": [],
   "source": []
  },
  {
   "cell_type": "code",
   "execution_count": null,
   "id": "ec3209c9-5b8f-400a-8292-fbb9f7ee8c3d",
   "metadata": {},
   "outputs": [],
   "source": []
  }
 ],
 "metadata": {
  "kernelspec": {
   "display_name": "Python 3 (ipykernel)",
   "language": "python",
   "name": "python3"
  },
  "language_info": {
   "codemirror_mode": {
    "name": "ipython",
    "version": 3
   },
   "file_extension": ".py",
   "mimetype": "text/x-python",
   "name": "python",
   "nbconvert_exporter": "python",
   "pygments_lexer": "ipython3",
   "version": "3.10.0"
  }
 },
 "nbformat": 4,
 "nbformat_minor": 5
}
